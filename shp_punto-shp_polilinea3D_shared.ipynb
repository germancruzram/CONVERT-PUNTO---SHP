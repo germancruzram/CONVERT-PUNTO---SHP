{
  "nbformat": 4,
  "nbformat_minor": 0,
  "metadata": {
    "colab": {
      "provenance": [],
      "authorship_tag": "ABX9TyOqN+kxCT2QEZzYOtep8mBx",
      "include_colab_link": true
    },
    "kernelspec": {
      "name": "python3",
      "display_name": "Python 3"
    },
    "language_info": {
      "name": "python"
    }
  },
  "cells": [
    {
      "cell_type": "markdown",
      "metadata": {
        "id": "view-in-github",
        "colab_type": "text"
      },
      "source": [
        "<a href=\"https://colab.research.google.com/github/germancruzram/GIS_PUNTO---SHP_POLILINEA/blob/main/shp_punto-shp_polilinea3D_shared.ipynb\" target=\"_parent\"><img src=\"https://colab.research.google.com/assets/colab-badge.svg\" alt=\"Open In Colab\"/></a>"
      ]
    },
    {
      "cell_type": "markdown",
      "source": [
        "# **CONVIRTIENDO SHP PUNTOS -- SHP POLINEA 3D. GPS**"
      ],
      "metadata": {
        "id": "MNCNzhBq3D3G"
      }
    },
    {
      "cell_type": "markdown",
      "source": [
        "**ING. GERMAN CRUZ RAMIREZ🇳**\n",
        "\n",
        "---\n",
        "\n"
      ],
      "metadata": {
        "id": "XbsWmyGE3Nxm"
      }
    },
    {
      "cell_type": "markdown",
      "source": [
        "**1. INSTALANDO LIBRERIAS A UTILIZAR**"
      ],
      "metadata": {
        "id": "_1FjXEEM5dS2"
      }
    },
    {
      "cell_type": "code",
      "source": [
        "# Instalación de librerias\n",
        "!pip install geopandas\n",
        "!pip install shapely\n",
        "!pip install folium"
      ],
      "metadata": {
        "id": "-gKoW8lHJl-g",
        "colab": {
          "base_uri": "https://localhost:8080/"
        },
        "outputId": "e850c97e-63b5-400b-8965-daa01931dbff"
      },
      "execution_count": 1,
      "outputs": [
        {
          "output_type": "stream",
          "name": "stdout",
          "text": [
            "Requirement already satisfied: geopandas in /usr/local/lib/python3.10/dist-packages (0.13.2)\n",
            "Requirement already satisfied: fiona>=1.8.19 in /usr/local/lib/python3.10/dist-packages (from geopandas) (1.9.6)\n",
            "Requirement already satisfied: packaging in /usr/local/lib/python3.10/dist-packages (from geopandas) (24.0)\n",
            "Requirement already satisfied: pandas>=1.1.0 in /usr/local/lib/python3.10/dist-packages (from geopandas) (1.5.3)\n",
            "Requirement already satisfied: pyproj>=3.0.1 in /usr/local/lib/python3.10/dist-packages (from geopandas) (3.6.1)\n",
            "Requirement already satisfied: shapely>=1.7.1 in /usr/local/lib/python3.10/dist-packages (from geopandas) (2.0.3)\n",
            "Requirement already satisfied: attrs>=19.2.0 in /usr/local/lib/python3.10/dist-packages (from fiona>=1.8.19->geopandas) (23.2.0)\n",
            "Requirement already satisfied: certifi in /usr/local/lib/python3.10/dist-packages (from fiona>=1.8.19->geopandas) (2024.2.2)\n",
            "Requirement already satisfied: click~=8.0 in /usr/local/lib/python3.10/dist-packages (from fiona>=1.8.19->geopandas) (8.1.7)\n",
            "Requirement already satisfied: click-plugins>=1.0 in /usr/local/lib/python3.10/dist-packages (from fiona>=1.8.19->geopandas) (1.1.1)\n",
            "Requirement already satisfied: cligj>=0.5 in /usr/local/lib/python3.10/dist-packages (from fiona>=1.8.19->geopandas) (0.7.2)\n",
            "Requirement already satisfied: six in /usr/local/lib/python3.10/dist-packages (from fiona>=1.8.19->geopandas) (1.16.0)\n",
            "Requirement already satisfied: python-dateutil>=2.8.1 in /usr/local/lib/python3.10/dist-packages (from pandas>=1.1.0->geopandas) (2.8.2)\n",
            "Requirement already satisfied: pytz>=2020.1 in /usr/local/lib/python3.10/dist-packages (from pandas>=1.1.0->geopandas) (2023.4)\n",
            "Requirement already satisfied: numpy>=1.21.0 in /usr/local/lib/python3.10/dist-packages (from pandas>=1.1.0->geopandas) (1.25.2)\n",
            "Requirement already satisfied: shapely in /usr/local/lib/python3.10/dist-packages (2.0.3)\n",
            "Requirement already satisfied: numpy<2,>=1.14 in /usr/local/lib/python3.10/dist-packages (from shapely) (1.25.2)\n",
            "Requirement already satisfied: folium in /usr/local/lib/python3.10/dist-packages (0.14.0)\n",
            "Requirement already satisfied: branca>=0.6.0 in /usr/local/lib/python3.10/dist-packages (from folium) (0.7.1)\n",
            "Requirement already satisfied: jinja2>=2.9 in /usr/local/lib/python3.10/dist-packages (from folium) (3.1.3)\n",
            "Requirement already satisfied: numpy in /usr/local/lib/python3.10/dist-packages (from folium) (1.25.2)\n",
            "Requirement already satisfied: requests in /usr/local/lib/python3.10/dist-packages (from folium) (2.31.0)\n",
            "Requirement already satisfied: MarkupSafe>=2.0 in /usr/local/lib/python3.10/dist-packages (from jinja2>=2.9->folium) (2.1.5)\n",
            "Requirement already satisfied: charset-normalizer<4,>=2 in /usr/local/lib/python3.10/dist-packages (from requests->folium) (3.3.2)\n",
            "Requirement already satisfied: idna<4,>=2.5 in /usr/local/lib/python3.10/dist-packages (from requests->folium) (3.6)\n",
            "Requirement already satisfied: urllib3<3,>=1.21.1 in /usr/local/lib/python3.10/dist-packages (from requests->folium) (2.0.7)\n",
            "Requirement already satisfied: certifi>=2017.4.17 in /usr/local/lib/python3.10/dist-packages (from requests->folium) (2024.2.2)\n"
          ]
        }
      ]
    },
    {
      "cell_type": "markdown",
      "source": [
        "**2. CREANDO LAS CARPETAS DE TRABAJO**"
      ],
      "metadata": {
        "id": "GLdcohC7P0qQ"
      }
    },
    {
      "cell_type": "code",
      "source": [
        "import os\n",
        "\n",
        "\n",
        "folders_to_create = [\"/content/input_shp\", \"/content/output\"]\n",
        "\n",
        "for folder_path in folders_to_create:\n",
        "    if not os.path.exists(folder_path):\n",
        "        os.makedirs(folder_path)\n",
        "        print(f\"Carpeta {folder_path} creada correctamente.\")\n",
        "    else:\n",
        "        print(f\"La carpeta {folder_path} ya existe.\")\n"
      ],
      "metadata": {
        "id": "30DYqz1qPzvr",
        "outputId": "c584f1ac-6388-4c7f-9519-63ec625d40e0",
        "colab": {
          "base_uri": "https://localhost:8080/"
        }
      },
      "execution_count": 9,
      "outputs": [
        {
          "output_type": "stream",
          "name": "stdout",
          "text": [
            "La carpeta /content/input_shp ya existe.\n",
            "La carpeta /content/output ya existe.\n"
          ]
        }
      ]
    },
    {
      "cell_type": "markdown",
      "source": [
        "**3. CONVIRTIENDO UN SHP DE PUNTOS A UN SHP POLI-LINEA**\n",
        "\n",
        "Recuerde subir los archivos shp con los puntos a procesar"
      ],
      "metadata": {
        "id": "lW0JY8ePxOQL"
      }
    },
    {
      "cell_type": "code",
      "source": [
        "import os\n",
        "import geopandas as gpd\n",
        "from shapely.geometry import LineString\n",
        "import zipfile\n",
        "\n",
        "input_dir_path = \"/content/input_shp\"\n",
        "output_dir_path = \"/content/output\"\n",
        "\n",
        "if not os.path.exists(output_dir_path):\n",
        "    os.makedirs(output_dir_path)\n",
        "\n",
        "shp_files = [file for file in os.listdir(input_dir_path) if file.endswith('.shp')]\n",
        "\n",
        "if not shp_files:\n",
        "    raise FileNotFoundError(\"No se encontraron archivos SHP en el directorio de entrada.\")\n",
        "\n",
        "shp_file_name = os.path.splitext(shp_files[0])[0]\n",
        "\n",
        "input_shp_path = os.path.join(input_dir_path, shp_files[0])\n",
        "puntos_gdf = gpd.read_file(input_shp_path)\n",
        "\n",
        "if 'Elevation' not in puntos_gdf.columns:\n",
        "    raise ValueError(\"El GeoDataFrame no tiene la columna 'Elevation' necesaria.\")\n",
        "\n",
        "coords_z = [(row['Easting'], row['Northing'], row['Elevation']) for idx, row in puntos_gdf.iterrows()]\n",
        "\n",
        "linea_z = LineString(coords_z)\n",
        "\n",
        "linea_gdf = gpd.GeoDataFrame({'geometry': [linea_z], 'cod_tramo': [''] * 1})\n",
        "linea_gdf.crs = puntos_gdf.crs\n",
        "\n",
        "linea_gdf['cod_tramo'] = linea_gdf['cod_tramo'].astype(str).str.pad(width=12, side='right')\n",
        "\n",
        "output_shp_path = os.path.join(output_dir_path, f\"{shp_file_name}.shp\")\n",
        "\n",
        "linea_gdf.to_file(output_shp_path)\n",
        "\n",
        "zip_filename = f\"{shp_file_name}.zip\"\n",
        "zip_filepath = os.path.join(output_dir_path, zip_filename)\n",
        "\n",
        "with zipfile.ZipFile(zip_filepath, 'w') as zipf:\n",
        "    for f in os.listdir(output_dir_path):\n",
        "        if f.startswith(shp_file_name) and not f.endswith('.zip'):\n",
        "            zipf.write(os.path.join(output_dir_path, f), arcname=f)\n",
        "\n"
      ],
      "metadata": {
        "id": "oW5sNLFk-EIu"
      },
      "execution_count": 10,
      "outputs": []
    },
    {
      "cell_type": "markdown",
      "source": [
        "**4. VIZUALIZAR SHP**"
      ],
      "metadata": {
        "id": "GvL20Z2K5-jQ"
      }
    },
    {
      "cell_type": "code",
      "source": [
        "import os\n",
        "import folium\n",
        "import geopandas as gpd\n",
        "from shapely.geometry import LineString\n",
        "\n",
        "output_dir_path = \"/content/output\"\n",
        "\n",
        "shp_files = [file for file in os.listdir(output_dir_path) if file.endswith('.shp')]\n",
        "if not shp_files:\n",
        "    raise FileNotFoundError(\"No se encontraron archivos SHP en la carpeta '/content/output/'.\")\n",
        "\n",
        "shp_file_path = os.path.join(output_dir_path, shp_files[0])\n",
        "gdf = gpd.read_file(shp_file_path)\n",
        "\n",
        "gdf.set_crs(epsg=32616, inplace=True)\n",
        "\n",
        "def convert_2d(geom):\n",
        "    if geom.has_z:\n",
        "        return LineString([(x, y) for x, y, z in geom.coords])\n",
        "    else:\n",
        "        return geom\n",
        "\n",
        "gdf['geometry'] = gdf['geometry'].apply(convert_2d)\n",
        "\n",
        "# Convertir el GeoDataFrame al CRS WGS 84 (EPSG:4326) para usar con Google Maps\n",
        "gdf_wgs84 = gdf.to_crs(epsg=4326)\n",
        "\n",
        "# Calcular el centroide del conjunto de geometrías para centrar el mapa\n",
        "centroid = gdf_wgs84.unary_union.centroid\n",
        "avg_lat = centroid.y\n",
        "avg_lon = centroid.x\n",
        "\n",
        "# Crear una instancia de mapa de Folium en la ubicación del centroide\n",
        "m = folium.Map(location=[avg_lat, avg_lon], zoom_start=14)\n",
        "\n",
        "# Añadir las geometrías del GeoDataFrame al mapa\n",
        "folium.GeoJson(gdf_wgs84, name='geojson').add_to(m)\n",
        "\n",
        "# Mostrar el mapa\n",
        "m\n",
        "\n",
        "\n"
      ],
      "metadata": {
        "colab": {
          "base_uri": "https://localhost:8080/",
          "height": 914
        },
        "id": "RbMyTihq6Csg",
        "outputId": "03ae02af-c89e-482c-e6ce-202a8314c037"
      },
      "execution_count": 11,
      "outputs": [
        {
          "output_type": "execute_result",
          "data": {
            "text/plain": [
              "<folium.folium.Map at 0x7f54bc02c4c0>"
            ],
            "text/html": [
              "<div style=\"width:100%;\"><div style=\"position:relative;width:100%;height:0;padding-bottom:60%;\"><span style=\"color:#565656\">Make this Notebook Trusted to load map: File -> Trust Notebook</span><iframe srcdoc=\"&lt;!DOCTYPE html&gt;\n",
              "&lt;html&gt;\n",
              "&lt;head&gt;\n",
              "    \n",
              "    &lt;meta http-equiv=&quot;content-type&quot; content=&quot;text/html; charset=UTF-8&quot; /&gt;\n",
              "    \n",
              "        &lt;script&gt;\n",
              "            L_NO_TOUCH = false;\n",
              "            L_DISABLE_3D = false;\n",
              "        &lt;/script&gt;\n",
              "    \n",
              "    &lt;style&gt;html, body {width: 100%;height: 100%;margin: 0;padding: 0;}&lt;/style&gt;\n",
              "    &lt;style&gt;#map {position:absolute;top:0;bottom:0;right:0;left:0;}&lt;/style&gt;\n",
              "    &lt;script src=&quot;https://cdn.jsdelivr.net/npm/leaflet@1.9.3/dist/leaflet.js&quot;&gt;&lt;/script&gt;\n",
              "    &lt;script src=&quot;https://code.jquery.com/jquery-1.12.4.min.js&quot;&gt;&lt;/script&gt;\n",
              "    &lt;script src=&quot;https://cdn.jsdelivr.net/npm/bootstrap@5.2.2/dist/js/bootstrap.bundle.min.js&quot;&gt;&lt;/script&gt;\n",
              "    &lt;script src=&quot;https://cdnjs.cloudflare.com/ajax/libs/Leaflet.awesome-markers/2.0.2/leaflet.awesome-markers.js&quot;&gt;&lt;/script&gt;\n",
              "    &lt;link rel=&quot;stylesheet&quot; href=&quot;https://cdn.jsdelivr.net/npm/leaflet@1.9.3/dist/leaflet.css&quot;/&gt;\n",
              "    &lt;link rel=&quot;stylesheet&quot; href=&quot;https://cdn.jsdelivr.net/npm/bootstrap@5.2.2/dist/css/bootstrap.min.css&quot;/&gt;\n",
              "    &lt;link rel=&quot;stylesheet&quot; href=&quot;https://netdna.bootstrapcdn.com/bootstrap/3.0.0/css/bootstrap.min.css&quot;/&gt;\n",
              "    &lt;link rel=&quot;stylesheet&quot; href=&quot;https://cdn.jsdelivr.net/npm/@fortawesome/fontawesome-free@6.2.0/css/all.min.css&quot;/&gt;\n",
              "    &lt;link rel=&quot;stylesheet&quot; href=&quot;https://cdnjs.cloudflare.com/ajax/libs/Leaflet.awesome-markers/2.0.2/leaflet.awesome-markers.css&quot;/&gt;\n",
              "    &lt;link rel=&quot;stylesheet&quot; href=&quot;https://cdn.jsdelivr.net/gh/python-visualization/folium/folium/templates/leaflet.awesome.rotate.min.css&quot;/&gt;\n",
              "    \n",
              "            &lt;meta name=&quot;viewport&quot; content=&quot;width=device-width,\n",
              "                initial-scale=1.0, maximum-scale=1.0, user-scalable=no&quot; /&gt;\n",
              "            &lt;style&gt;\n",
              "                #map_f31fe2bb22975e7673393ce2503777df {\n",
              "                    position: relative;\n",
              "                    width: 100.0%;\n",
              "                    height: 100.0%;\n",
              "                    left: 0.0%;\n",
              "                    top: 0.0%;\n",
              "                }\n",
              "                .leaflet-container { font-size: 1rem; }\n",
              "            &lt;/style&gt;\n",
              "        \n",
              "&lt;/head&gt;\n",
              "&lt;body&gt;\n",
              "    \n",
              "    \n",
              "            &lt;div class=&quot;folium-map&quot; id=&quot;map_f31fe2bb22975e7673393ce2503777df&quot; &gt;&lt;/div&gt;\n",
              "        \n",
              "&lt;/body&gt;\n",
              "&lt;script&gt;\n",
              "    \n",
              "    \n",
              "            var map_f31fe2bb22975e7673393ce2503777df = L.map(\n",
              "                &quot;map_f31fe2bb22975e7673393ce2503777df&quot;,\n",
              "                {\n",
              "                    center: [12.14189385998092, -86.29369192838939],\n",
              "                    crs: L.CRS.EPSG3857,\n",
              "                    zoom: 14,\n",
              "                    zoomControl: true,\n",
              "                    preferCanvas: false,\n",
              "                }\n",
              "            );\n",
              "\n",
              "            \n",
              "\n",
              "        \n",
              "    \n",
              "            var tile_layer_2ad18edd5f33ad51410e527bf9efc63a = L.tileLayer(\n",
              "                &quot;https://{s}.tile.openstreetmap.org/{z}/{x}/{y}.png&quot;,\n",
              "                {&quot;attribution&quot;: &quot;Data by \\u0026copy; \\u003ca target=\\&quot;_blank\\&quot; href=\\&quot;http://openstreetmap.org\\&quot;\\u003eOpenStreetMap\\u003c/a\\u003e, under \\u003ca target=\\&quot;_blank\\&quot; href=\\&quot;http://www.openstreetmap.org/copyright\\&quot;\\u003eODbL\\u003c/a\\u003e.&quot;, &quot;detectRetina&quot;: false, &quot;maxNativeZoom&quot;: 18, &quot;maxZoom&quot;: 18, &quot;minZoom&quot;: 0, &quot;noWrap&quot;: false, &quot;opacity&quot;: 1, &quot;subdomains&quot;: &quot;abc&quot;, &quot;tms&quot;: false}\n",
              "            ).addTo(map_f31fe2bb22975e7673393ce2503777df);\n",
              "        \n",
              "    \n",
              "\n",
              "        function geo_json_64aef98b234c199d92a8134f62218d67_onEachFeature(feature, layer) {\n",
              "            layer.on({\n",
              "            });\n",
              "        };\n",
              "        var geo_json_64aef98b234c199d92a8134f62218d67 = L.geoJson(null, {\n",
              "                onEachFeature: geo_json_64aef98b234c199d92a8134f62218d67_onEachFeature,\n",
              "            \n",
              "        });\n",
              "\n",
              "        function geo_json_64aef98b234c199d92a8134f62218d67_add (data) {\n",
              "            geo_json_64aef98b234c199d92a8134f62218d67\n",
              "                .addData(data)\n",
              "                .addTo(map_f31fe2bb22975e7673393ce2503777df);\n",
              "        }\n",
              "            geo_json_64aef98b234c199d92a8134f62218d67_add({&quot;bbox&quot;: [-86.29387541753239, 12.14146356678927, -86.29346587578038, 12.14233775125748], &quot;features&quot;: [{&quot;bbox&quot;: [-86.29387541753239, 12.14146356678927, -86.29346587578038, 12.14233775125748], &quot;geometry&quot;: {&quot;coordinates&quot;: [[-86.29354321523712, 12.141501696230439], [-86.2935057364937, 12.141533828102876], [-86.2935091317179, 12.141533051140543], [-86.29351675255788, 12.141538210438455], [-86.2935260831499, 12.141537800472284], [-86.29353499815505, 12.14154094628683], [-86.29354452828386, 12.141543599398743], [-86.2935535240972, 12.141546840547747], [-86.29356297011152, 12.141549083992565], [-86.29357298122706, 12.141551681723788], [-86.29358141455927, 12.141555876161137], [-86.29359031621048, 12.141559835056265], [-86.29359891606543, 12.141564032269104], [-86.29360721652436, 12.141568812421736], [-86.293614881222, 12.141574174655958], [-86.29362236060373, 12.141580213983978], [-86.29362976295407, 12.141587026715202], [-86.29363779038087, 12.141592290314595], [-86.29364468793212, 12.141599162433755], [-86.29365145076055, 12.14160638036222], [-86.29365752076895, 12.14161351269738], [-86.29366239338779, 12.141621647340864], [-86.29366864010908, 12.141628298514362], [-86.29367451523505, 12.141635413984757], [-86.29368069180721, 12.141643505294619], [-86.29368750006674, 12.141651095986402], [-86.29369434878159, 12.141658087252589], [-86.29370090261472, 12.141665482968104], [-86.29370686106306, 12.141673100337478], [-86.29371355101388, 12.141679377189408], [-86.29371954241145, 12.141686627962557], [-86.29372519622594, 12.141693816926802], [-86.29373031536063, 12.141701348600273], [-86.29373606459025, 12.141708530573606], [-86.29374208196202, 12.14171607394277], [-86.2937478798526, 12.141723134868322], [-86.29375455591193, 12.14172969688956], [-86.29376094271079, 12.141736448339966], [-86.29376743117017, 12.14174305473396], [-86.29377358716043, 12.141750134838722], [-86.29377976548828, 12.1417570736635], [-86.29378622409861, 12.141763707832357], [-86.293792319941, 12.141771327720805], [-86.2937977288513, 12.14178011516378], [-86.29380366273624, 12.141788371875435], [-86.29380959436729, 12.141795495987497], [-86.29381565509719, 12.141803467183866], [-86.29382202079269, 12.141811043903166], [-86.29382783231766, 12.141818861371307], [-86.29383382971605, 12.141827011088822], [-86.29384002863699, 12.14183506483503], [-86.29384570050414, 12.14184224118339], [-86.29385084901294, 12.141850765181399], [-86.29385444928647, 12.141859507589324], [-86.29385559680243, 12.141869412053163], [-86.29385690348838, 12.141878761251261], [-86.2938577122939, 12.141887775866786], [-86.29385786659819, 12.141897055209752], [-86.29385508648882, 12.141906724492918], [-86.29385062712302, 12.141915203818513], [-86.2938448893309, 12.14192286260702], [-86.2938385242875, 12.141930175360303], [-86.29383222570247, 12.141936925377081], [-86.29382515482985, 12.14194368273765], [-86.293817288658, 12.141949588963113], [-86.29380905591377, 12.141955413140538], [-86.29380172848612, 12.141961282760617], [-86.2937935870675, 12.141966175143086], [-86.29378551853536, 12.141971588026141], [-86.2937777536314, 12.141977706740045], [-86.293770468834, 12.141983755241444], [-86.29376245942082, 12.14198929785596], [-86.29375439721838, 12.14199464492358], [-86.29374673126111, 12.142000462044823], [-86.29373925596914, 12.142006187778787], [-86.29373209318568, 12.142011934836646], [-86.29372379367669, 12.14201766913775], [-86.29371559341243, 12.142023791260375], [-86.29370765980653, 12.142030105315403], [-86.29370026373981, 12.14203558474731], [-86.2936923305251, 12.142040808528838], [-86.29368470634142, 12.142047024445842], [-86.2936767796746, 12.142053006561403], [-86.29366910882604, 12.142059388110908], [-86.29366144509619, 12.142065718677715], [-86.29365401581428, 12.142072048666936], [-86.29364636125695, 12.142078176520155], [-86.2936393454152, 12.142084240714826], [-86.29363189025901, 12.142090798241222], [-86.29362457795908, 12.142096853178938], [-86.29361694201144, 12.142102823917243], [-86.29360991019956, 12.142109611845164], [-86.2936031067056, 12.142116632842363], [-86.2935960633501, 12.14212281397768], [-86.29358859081881, 12.142128152326494], [-86.29358110022942, 12.14213399575221], [-86.29356436977511, 12.142151879598012], [-86.2935156384307, 12.14233775125748], [-86.29352494068873, 12.142335549416728], [-86.29353347107248, 12.142330792138477], [-86.29354124798422, 12.142325876860745], [-86.2935494861005, 12.142320949919156], [-86.29355756116284, 12.142316098790857], [-86.29356539506624, 12.142310028367111], [-86.29357123374888, 12.142302278873728], [-86.29357822213319, 12.142295895405162], [-86.2935847354183, 12.142289285833003], [-86.29359120359167, 12.142281834363981], [-86.29359827314413, 12.14227513026826], [-86.29360455093102, 12.142267733654162], [-86.29361055016186, 12.142260439686764], [-86.29361778978296, 12.142254449852329], [-86.29362401208104, 12.142247254024129], [-86.29363139621972, 12.142241700324027], [-86.29363928974962, 12.142236507459778], [-86.29364673591395, 12.142230643301982], [-86.29365401104515, 12.142224151327548], [-86.29366098631014, 12.142217792509648], [-86.29366853135525, 12.142211651988406], [-86.29367543051063, 12.142205542010874], [-86.29368017649387, 12.142194637454205], [-86.29368745079083, 12.142187589533664], [-86.29369439998351, 12.142181637749026], [-86.29370173415415, 12.142175235355763], [-86.29370835384695, 12.142168874092079], [-86.29371440756377, 12.14216147853115], [-86.29372071672816, 12.142154867259059], [-86.29372897427025, 12.142149714927557], [-86.29373649138752, 12.142143708435707], [-86.29374409114257, 12.142137312053931], [-86.29375187880841, 12.14213085818783], [-86.29375949921865, 12.14212454007732], [-86.29376678702386, 12.142118467801957], [-86.29377399083184, 12.142112254789094], [-86.29378162424385, 12.142106547633484], [-86.29378794716628, 12.142099806180406], [-86.29379551164678, 12.14209378624362], [-86.29380261546385, 12.14208663081966], [-86.29380952404381, 12.142079173957587], [-86.29381601234343, 12.142072660167807], [-86.29382334205337, 12.142066344026599], [-86.2938303632764, 12.142060503013697], [-86.29383825801064, 12.142054221771204], [-86.2938445514672, 12.142047291521102], [-86.29384957868837, 12.142038715621805], [-86.29385458216774, 12.142030918596953], [-86.29386032383348, 12.142022697364562], [-86.29386533052528, 12.142014622647443], [-86.2938689957801, 12.142005330078762], [-86.29387120925473, 12.141996551137812], [-86.29387222353704, 12.141987330387982], [-86.29387268784082, 12.141977665958597], [-86.29387397325654, 12.141968020081244], [-86.29387505739295, 12.141958482564158], [-86.2938748962424, 12.141948871428387], [-86.29387448761155, 12.141939637644747], [-86.2938746407964, 12.141929877745053], [-86.29387541753239, 12.141919984519271], [-86.29387474178617, 12.14191052281213], [-86.29387239899907, 12.141900955484646], [-86.29387064086917, 12.141891645646254], [-86.29386762961465, 12.141882795415102], [-86.29386372819478, 12.141873800039274], [-86.29385998085512, 12.141865239466025], [-86.29385532221804, 12.141857019918243], [-86.29384997314725, 12.141849134272977], [-86.29384423096451, 12.14184094975952], [-86.29383763099842, 12.141833096460978], [-86.29383152125526, 12.141826007613648], [-86.29382576809601, 12.141818013058238], [-86.29381964724908, 12.14181109255676], [-86.29381222218919, 12.14180462800522], [-86.29380664559929, 12.141797148608319], [-86.29380137217245, 12.141788982199593], [-86.29379576973325, 12.141780605432958], [-86.29378986779491, 12.141772920570324], [-86.29378353797647, 12.141765854581145], [-86.29377785808104, 12.141758203561707], [-86.29377271360924, 12.141749927793942], [-86.2937670880447, 12.141741573484039], [-86.29374796815446, 12.141721293102831], [-86.29373932342831, 12.141716194678299], [-86.29373380565178, 12.141708125757981], [-86.293727934793, 12.141700819680233], [-86.29372232025989, 12.141692918525576], [-86.29371553035784, 12.141685824142826], [-86.29370839656659, 12.141678933608508], [-86.29370180844825, 12.141671156024389], [-86.29369495642834, 12.141663779622853], [-86.29368919777265, 12.141656687870496], [-86.2936825447935, 12.141649599352368], [-86.29367571618864, 12.141642579833674], [-86.2936694754395, 12.141635475728494], [-86.29366358489047, 12.14162831907453], [-86.29365755050401, 12.141620607647711], [-86.29365045266802, 12.141613780140721], [-86.29364423956262, 12.141607032567386], [-86.29363878666989, 12.141599279490336], [-86.29363336477826, 12.141591166594257], [-86.29362677482203, 12.141584157720738], [-86.29361865727131, 12.141578637441132], [-86.2936115083182, 12.141572794187242], [-86.29360358975813, 12.141566255668407], [-86.29359674588694, 12.141559799557404], [-86.29358925920036, 12.141553568324767], [-86.29358206671247, 12.14154771510259], [-86.29357489555237, 12.141541162303723], [-86.29356796838206, 12.141535173033128], [-86.29356096928822, 12.141528646806295], [-86.29355395280317, 12.141522024230548], [-86.29354645264273, 12.141515780121878], [-86.29353829866334, 12.141510274486677], [-86.29353044469724, 12.141504370383204], [-86.29352299151786, 12.141499061134034], [-86.29351477821488, 12.141493782408094], [-86.2935067395245, 12.141489063325874], [-86.29349789948782, 12.141484916678909], [-86.2934899640621, 12.141479234906448], [-86.2934822238459, 12.141473341762332], [-86.29347437357596, 12.141467500694176], [-86.29346587578038, 12.14146356678927]], &quot;type&quot;: &quot;LineString&quot;}, &quot;id&quot;: &quot;0&quot;, &quot;properties&quot;: {&quot;cod_tramo&quot;: null}, &quot;type&quot;: &quot;Feature&quot;}], &quot;type&quot;: &quot;FeatureCollection&quot;});\n",
              "\n",
              "        \n",
              "&lt;/script&gt;\n",
              "&lt;/html&gt;\" style=\"position:absolute;width:100%;height:100%;left:0;top:0;border:none !important;\" allowfullscreen webkitallowfullscreen mozallowfullscreen></iframe></div></div>"
            ]
          },
          "metadata": {},
          "execution_count": 11
        }
      ]
    }
  ]
}